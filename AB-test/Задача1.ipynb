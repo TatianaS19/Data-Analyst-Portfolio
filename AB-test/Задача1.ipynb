{
 "cells": [
  {
   "cell_type": "markdown",
   "id": "93d51b84-fda1-4d61-9820-b2a318b5c449",
   "metadata": {
    "tags": []
   },
   "source": [
    "Необходимо убедиться в том, что наша система сплитования работает корректно, и ключевая метрика не отличается между группами не только в конкретно нашем А/А-тесте, но и в целом."
   ]
  },
  {
   "cell_type": "code",
   "execution_count": 1,
   "id": "5b0ee72e-96cc-445b-9541-d3ea459f70d4",
   "metadata": {},
   "outputs": [],
   "source": [
    "import pandas as pd\n",
    "import numpy as np\n",
    "import matplotlib.pyplot as plt\n",
    "import seaborn as sns\n",
    "import pandahouse as ph\n",
    "from scipy import stats\n",
    "\n",
    "\n",
    "connection = {'host': 'https://clickhouse.lab.karpov.courses',\n",
    "'database':'simulator_20250120',\n",
    "'user':'student',\n",
    "'password':'dpo_python_2020'\n",
    "}\n",
    "\n",
    "\n",
    "query = \"\"\"\n",
    "SELECT exp_group, \n",
    "    user_id,\n",
    "    sum(action = 'like') as likes,\n",
    "    sum(action = 'view') as views,\n",
    "    likes/views as ctr\n",
    "FROM {db}.feed_actions \n",
    "WHERE toDate(time) between '2024-12-27' and '2025-01-02'\n",
    "    and exp_group in (2,3)\n",
    "GROUP BY exp_group, user_id\n",
    "\"\"\"\n",
    "\n",
    "df = ph.read_clickhouse(query, connection=connection)"
   ]
  },
  {
   "cell_type": "code",
   "execution_count": 2,
   "id": "7ee0f338-c7cc-4af2-814f-a5134f22b4aa",
   "metadata": {},
   "outputs": [
    {
     "data": {
      "text/html": [
       "<div>\n",
       "<style scoped>\n",
       "    .dataframe tbody tr th:only-of-type {\n",
       "        vertical-align: middle;\n",
       "    }\n",
       "\n",
       "    .dataframe tbody tr th {\n",
       "        vertical-align: top;\n",
       "    }\n",
       "\n",
       "    .dataframe thead th {\n",
       "        text-align: right;\n",
       "    }\n",
       "</style>\n",
       "<table border=\"1\" class=\"dataframe\">\n",
       "  <thead>\n",
       "    <tr style=\"text-align: right;\">\n",
       "      <th></th>\n",
       "      <th>exp_group</th>\n",
       "      <th>user_id</th>\n",
       "      <th>likes</th>\n",
       "      <th>views</th>\n",
       "      <th>ctr</th>\n",
       "    </tr>\n",
       "  </thead>\n",
       "  <tbody>\n",
       "    <tr>\n",
       "      <th>0</th>\n",
       "      <td>3</td>\n",
       "      <td>115383</td>\n",
       "      <td>38</td>\n",
       "      <td>248</td>\n",
       "      <td>0.153226</td>\n",
       "    </tr>\n",
       "    <tr>\n",
       "      <th>1</th>\n",
       "      <td>3</td>\n",
       "      <td>10326</td>\n",
       "      <td>24</td>\n",
       "      <td>132</td>\n",
       "      <td>0.181818</td>\n",
       "    </tr>\n",
       "    <tr>\n",
       "      <th>2</th>\n",
       "      <td>3</td>\n",
       "      <td>123580</td>\n",
       "      <td>25</td>\n",
       "      <td>122</td>\n",
       "      <td>0.204918</td>\n",
       "    </tr>\n",
       "    <tr>\n",
       "      <th>3</th>\n",
       "      <td>2</td>\n",
       "      <td>131473</td>\n",
       "      <td>19</td>\n",
       "      <td>98</td>\n",
       "      <td>0.193878</td>\n",
       "    </tr>\n",
       "    <tr>\n",
       "      <th>4</th>\n",
       "      <td>2</td>\n",
       "      <td>23985</td>\n",
       "      <td>12</td>\n",
       "      <td>44</td>\n",
       "      <td>0.272727</td>\n",
       "    </tr>\n",
       "    <tr>\n",
       "      <th>...</th>\n",
       "      <td>...</td>\n",
       "      <td>...</td>\n",
       "      <td>...</td>\n",
       "      <td>...</td>\n",
       "      <td>...</td>\n",
       "    </tr>\n",
       "    <tr>\n",
       "      <th>16782</th>\n",
       "      <td>3</td>\n",
       "      <td>122008</td>\n",
       "      <td>20</td>\n",
       "      <td>123</td>\n",
       "      <td>0.162602</td>\n",
       "    </tr>\n",
       "    <tr>\n",
       "      <th>16783</th>\n",
       "      <td>2</td>\n",
       "      <td>25383</td>\n",
       "      <td>2</td>\n",
       "      <td>18</td>\n",
       "      <td>0.111111</td>\n",
       "    </tr>\n",
       "    <tr>\n",
       "      <th>16784</th>\n",
       "      <td>3</td>\n",
       "      <td>122190</td>\n",
       "      <td>15</td>\n",
       "      <td>56</td>\n",
       "      <td>0.267857</td>\n",
       "    </tr>\n",
       "    <tr>\n",
       "      <th>16785</th>\n",
       "      <td>2</td>\n",
       "      <td>108927</td>\n",
       "      <td>16</td>\n",
       "      <td>51</td>\n",
       "      <td>0.313725</td>\n",
       "    </tr>\n",
       "    <tr>\n",
       "      <th>16786</th>\n",
       "      <td>2</td>\n",
       "      <td>17310</td>\n",
       "      <td>24</td>\n",
       "      <td>75</td>\n",
       "      <td>0.320000</td>\n",
       "    </tr>\n",
       "  </tbody>\n",
       "</table>\n",
       "<p>16787 rows × 5 columns</p>\n",
       "</div>"
      ],
      "text/plain": [
       "       exp_group  user_id  likes  views       ctr\n",
       "0              3   115383     38    248  0.153226\n",
       "1              3    10326     24    132  0.181818\n",
       "2              3   123580     25    122  0.204918\n",
       "3              2   131473     19     98  0.193878\n",
       "4              2    23985     12     44  0.272727\n",
       "...          ...      ...    ...    ...       ...\n",
       "16782          3   122008     20    123  0.162602\n",
       "16783          2    25383      2     18  0.111111\n",
       "16784          3   122190     15     56  0.267857\n",
       "16785          2   108927     16     51  0.313725\n",
       "16786          2    17310     24     75  0.320000\n",
       "\n",
       "[16787 rows x 5 columns]"
      ]
     },
     "execution_count": 2,
     "metadata": {},
     "output_type": "execute_result"
    }
   ],
   "source": [
    "df"
   ]
  },
  {
   "cell_type": "code",
   "execution_count": 19,
   "id": "5f06dfbe-addc-485d-8900-44547373eaee",
   "metadata": {},
   "outputs": [
    {
     "data": {
      "text/html": [
       "<div>\n",
       "<style scoped>\n",
       "    .dataframe tbody tr th:only-of-type {\n",
       "        vertical-align: middle;\n",
       "    }\n",
       "\n",
       "    .dataframe tbody tr th {\n",
       "        vertical-align: top;\n",
       "    }\n",
       "\n",
       "    .dataframe thead th {\n",
       "        text-align: right;\n",
       "    }\n",
       "</style>\n",
       "<table border=\"1\" class=\"dataframe\">\n",
       "  <thead>\n",
       "    <tr style=\"text-align: right;\">\n",
       "      <th></th>\n",
       "      <th>user_id</th>\n",
       "      <th>likes</th>\n",
       "      <th>views</th>\n",
       "      <th>ctr</th>\n",
       "    </tr>\n",
       "    <tr>\n",
       "      <th>exp_group</th>\n",
       "      <th></th>\n",
       "      <th></th>\n",
       "      <th></th>\n",
       "      <th></th>\n",
       "    </tr>\n",
       "  </thead>\n",
       "  <tbody>\n",
       "    <tr>\n",
       "      <th>2</th>\n",
       "      <td>8362</td>\n",
       "      <td>8362</td>\n",
       "      <td>8362</td>\n",
       "      <td>8362</td>\n",
       "    </tr>\n",
       "    <tr>\n",
       "      <th>3</th>\n",
       "      <td>8425</td>\n",
       "      <td>8425</td>\n",
       "      <td>8425</td>\n",
       "      <td>8425</td>\n",
       "    </tr>\n",
       "  </tbody>\n",
       "</table>\n",
       "</div>"
      ],
      "text/plain": [
       "           user_id  likes  views   ctr\n",
       "exp_group                             \n",
       "2             8362   8362   8362  8362\n",
       "3             8425   8425   8425  8425"
      ]
     },
     "execution_count": 19,
     "metadata": {},
     "output_type": "execute_result"
    }
   ],
   "source": [
    "df.groupby('exp_group').count()"
   ]
  },
  {
   "cell_type": "code",
   "execution_count": 21,
   "id": "b45e8bac-aecb-4e19-8a25-a9bb80964260",
   "metadata": {},
   "outputs": [
    {
     "data": {
      "image/png": "[encoded data removed]",
      "text/plain": [
       "<Figure size 842.4x595.44 with 1 Axes>"
      ]
     },
     "metadata": {},
     "output_type": "display_data"
    }
   ],
   "source": [
    "sns.set(rc={'figure.figsize':(11.7,8.27)})\n",
    "\n",
    "groups = sns.histplot(data = df, \n",
    "              x='ctr', \n",
    "              hue='exp_group', \n",
    "              palette = ['r', 'b'],\n",
    "              alpha=0.5,\n",
    "              kde=False)"
   ]
  },
  {
   "cell_type": "code",
   "execution_count": null,
   "id": "120fcd1a-37a4-4eac-8240-c8267c5d6938",
   "metadata": {},
   "outputs": [],
   "source": [
    "#сильных визуальных различии между группами не замечено"
   ]
  },
  {
   "cell_type": "code",
   "execution_count": 22,
   "id": "7150b9d5-e86d-40c2-9593-1bc17c658a82",
   "metadata": {},
   "outputs": [],
   "source": [
    "#Из групп 2 и 3 берём подвыборки без возвращения размером в 500 юзеров\n",
    "#Сравниваем их t-тестом и сохраняем p-value (здесь и далее используем аргумент equal_var=False)\n",
    "#Повторяем это 10000 раз\n",
    "count_tests = 10000\n",
    "n = 500\n",
    "list_ctr = []\n",
    "for i in range(count_tests):\n",
    "    group_1 = df[df.exp_group == 2].ctr.sample(n, replace=True)\n",
    "    group_2 = df[df.exp_group == 3].ctr.sample(n, replace=True)\n",
    "    p_val = stats.ttest_ind(group_1, group_2, equal_var = False)[1]\n",
    "    list_ctr.append(p_val)"
   ]
  },
  {
   "cell_type": "code",
   "execution_count": 23,
   "id": "e70d1af1-c312-41f2-a6f5-781412a17267",
   "metadata": {},
   "outputs": [
    {
     "name": "stdout",
     "output_type": "stream",
     "text": [
      "0.0538\n"
     ]
    },
    {
     "data": {
      "image/png": "[encoded data removed]",
      "text/plain": [
       "<Figure size 842.4x595.44 with 1 Axes>"
      ]
     },
     "metadata": {},
     "output_type": "display_data"
    }
   ],
   "source": [
    "print(((pd.Series(list_ctr) <= 0.05).sum() / len(list_ctr)))\n",
    "sns.histplot(list_ctr);"
   ]
  },
  {
   "cell_type": "markdown",
   "id": "184340c7-4e5f-45f5-8e83-ac1e19c3e332",
   "metadata": {},
   "source": [
    "Распределение получившихся p-value является примерно \n",
    "равномерным. Значит, система сплитования работает корректно"
   ]
  },
  {
   "cell_type": "code",
   "execution_count": null,
   "id": "47a1579e-4a0d-4b7c-88fb-1b4dd61e75c2",
   "metadata": {},
   "outputs": [],
   "source": []
  }
 ],
 "metadata": {
  "kernelspec": {
   "display_name": "Python 3 (ipykernel)",
   "language": "python",
   "name": "python3"
  },
  "language_info": {
   "codemirror_mode": {
    "name": "ipython",
    "version": 3
   },
   "file_extension": ".py",
   "mimetype": "text/x-python",
   "name": "python",
   "nbconvert_exporter": "python",
   "pygments_lexer": "ipython3",
   "version": "3.8.10"
  }
 },
 "nbformat": 4,
 "nbformat_minor": 5
}
